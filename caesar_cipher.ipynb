{
 "cells": [
  {
   "cell_type": "code",
   "execution_count": 71,
   "metadata": {},
   "outputs": [
    {
     "name": "stdout",
     "output_type": "stream",
     "text": [
      "25\n",
      "yzzz\n"
     ]
    }
   ],
   "source": [
    "def encrypt(text,k):\n",
    "  \n",
    "    if k > 25 :\n",
    "        if k % 25 == 0 :\n",
    "            k = 25\n",
    "        else :\n",
    "            k = k - (25 *(k // 25))\n",
    "    print(k)\n",
    "\n",
    "    text_after_encrypt = ''\n",
    "    temp=k\n",
    "    for litters in text:\n",
    "        k=temp\n",
    "        if ord(litters) + k > 122 :\n",
    "            k = k - 26\n",
    "        text_after_encrypt += chr(ord(litters)+k)\n",
    "    return(text_after_encrypt)\n",
    "\n",
    "# print(encrypt(\"abc\",1))\n",
    "# print(encrypt(\"abc\",10))\n",
    "# print(encrypt(\"abc\",52))\n",
    "# print(encrypt(\"abc\",5))\n",
    "# print(encrypt(\"a\",50))\n",
    "# print(encrypt(\"a\",1002221))\n",
    "print(encrypt(\"zaaa\",25))\n",
    "# print(ord('a')-ord('z'))"
   ]
  }
 ],
 "metadata": {
  "interpreter": {
   "hash": "62e2e5b5a9187c41c88cc4db78936690a0b808fd6c7aa18ac3ec85fccf4a346c"
  },
  "kernelspec": {
   "display_name": "Python 3.9.5 64-bit ('.venv': poetry)",
   "name": "python3"
  },
  "language_info": {
   "codemirror_mode": {
    "name": "ipython",
    "version": 3
   },
   "file_extension": ".py",
   "mimetype": "text/x-python",
   "name": "python",
   "nbconvert_exporter": "python",
   "pygments_lexer": "ipython3",
   "version": "3.9.5"
  },
  "orig_nbformat": 4
 },
 "nbformat": 4,
 "nbformat_minor": 2
}
